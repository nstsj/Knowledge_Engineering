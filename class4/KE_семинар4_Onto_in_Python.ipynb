{
  "nbformat": 4,
  "nbformat_minor": 0,
  "metadata": {
    "colab": {
      "name": "KE_семинар4: Onto in Python.ipynb",
      "provenance": [],
      "collapsed_sections": []
    },
    "kernelspec": {
      "name": "python3",
      "display_name": "Python 3"
    }
  },
  "cells": [
    {
      "cell_type": "markdown",
      "metadata": {
        "id": "bj-NKkrXqUK1"
      },
      "source": [
        "С онтологиями (хранящимися в виде файлов) также можно работать при помощи Питона.<br>\n",
        "Для этого существует несколько специализированных библиотек ([ontospy](https://pypi.org/project/ontospy/), [neo4j](https://github.com/neo4j-examples/movies-python-py2neo), [pronto](https://github.com/althonos/pronto), [RDFlib](https://rdflib.readthedocs.io/en/stable/) и др)<br>\n",
        "Сегодня мы поговорим про *owlready* ([вот ее документация](https://pythonhosted.org/Owlready2/intro.html))\n",
        "\n",
        "Что она умеет?<br>\n",
        "- импортировать онтологии в формате RDF/XML, OWL/XML и NTriples.\n",
        "- работать с классами и экземплярами онтологий как с питонскими объектами\n",
        "- добавлять методы к классам онтологий\n",
        "- автоматически классифицировать экземпляры с помощью HermiT ([здесь](http://www.hermit-reasoner.com/) о нем можно почитать больше)\n"
      ]
    },
    {
      "cell_type": "code",
      "metadata": {
        "id": "PVV7x_Vq1QNc",
        "colab": {
          "base_uri": "https://localhost:8080/"
        },
        "outputId": "4c7a3453-b323-484f-ada8-d2f17fe4ae2e"
      },
      "source": [
        "# скачиваем библиотеку\n",
        "! pip3 install owlready2"
      ],
      "execution_count": null,
      "outputs": [
        {
          "output_type": "stream",
          "text": [
            "Collecting owlready2\n",
            "\u001b[?25l  Downloading https://files.pythonhosted.org/packages/d1/0a/5968df803f6f8c8171fbacde0dca5fc6f6f7542d6a1bc221ec52d8d96bda/Owlready2-0.25.tar.gz (20.9MB)\n",
            "\u001b[K     |████████████████████████████████| 20.9MB 1.4MB/s \n",
            "\u001b[?25hBuilding wheels for collected packages: owlready2\n",
            "  Building wheel for owlready2 (setup.py) ... \u001b[?25l\u001b[?25hdone\n",
            "  Created wheel for owlready2: filename=Owlready2-0.25-cp36-cp36m-linux_x86_64.whl size=20269671 sha256=44e081cb28dbd607de1a1b890994c9aba70c8e55b5d545391e39caa0d07ff9c0\n",
            "  Stored in directory: /root/.cache/pip/wheels/62/74/7f/ab814059f816d87b26a1e1ec242c40d443cd2e22b0868a2a94\n",
            "Successfully built owlready2\n",
            "Installing collected packages: owlready2\n",
            "Successfully installed owlready2-0.25\n"
          ],
          "name": "stdout"
        }
      ]
    },
    {
      "cell_type": "code",
      "metadata": {
        "id": "iQKj_vUX1And"
      },
      "source": [
        "# импортируем библиотеку и все из нее\n",
        "from owlready2 import *"
      ],
      "execution_count": null,
      "outputs": []
    },
    {
      "cell_type": "markdown",
      "metadata": {
        "id": "FtxzqN4A6VYE"
      },
      "source": [
        "**Создание онтологии**\n",
        "\n",
        "Пустая онтология создается с помощью функции ```get_ontology()```<br>\n",
        "\n",
        "Ее аргумент - это IRI онтологии.\n",
        "([IRI](https://ru.wikipedia.org/wiki/Internationalized_Resource_Identifier) - это идентификатор онтологии, аналог привычного нам URL)"
      ]
    },
    {
      "cell_type": "code",
      "metadata": {
        "id": "xQyYTX5V7yT4"
      },
      "source": [
        " onto = get_ontology(\"http://test.org/onto.owl\")"
      ],
      "execution_count": null,
      "outputs": []
    },
    {
      "cell_type": "markdown",
      "metadata": {
        "id": "othYwELo75ah"
      },
      "source": [
        "Пустую онтологию можно наполнять классами, а классы - объектами"
      ]
    },
    {
      "cell_type": "markdown",
      "metadata": {
        "id": "0xsi1rmj8HK_"
      },
      "source": [
        "Однако иногда случается работать с уже существующей онтологией, хранящейся в виде файла. В таком случае необходимо ее загрузить. <br>\n",
        "\n",
        "**Загрузка онтологии**\n",
        "Нам потребуется метод ```.load() ```\n",
        "\n",
        "Онтологию можно загрузить из локальной директории или с сайта. "
      ]
    },
    {
      "cell_type": "code",
      "metadata": {
        "id": "QjxgGvCZ6Bun"
      },
      "source": [
        "# создаем переменную onto, в которой сохранится онтология, взятая по заданному адресу\n",
        "\n",
        "onto = get_ontology(\"http://www.lesfleursdunormal.fr/static/_downloads/pizza_onto.owl\").load()"
      ],
      "execution_count": null,
      "outputs": []
    },
    {
      "cell_type": "markdown",
      "metadata": {
        "id": "Y1SLWr4j-NkY"
      },
      "source": [
        "Хорошо, мы загрузили онтологию. Теперь можно посмотреть на ее содержимое\n",
        "\n",
        "Содержимое можно получить используя dot notation (.), как в классическом ООП ([здесь recap про ООП](https://www.datacamp.com/community/tutorials/python-oop-tutorial)). Так можно получить доступ к классам, экземплярам, их свойствам, свойствам аннотации и др"
      ]
    },
    {
      "cell_type": "code",
      "metadata": {
        "id": "gN9Q1-iZ_roy",
        "colab": {
          "base_uri": "https://localhost:8080/",
          "height": 35
        },
        "outputId": "803a1c04-d067-4031-fb86-d59eb33c9847"
      },
      "source": [
        "onto.base_iri # через точку мы получаем доступ к атрибуту онтологии (в данном случае это IRI)"
      ],
      "execution_count": null,
      "outputs": [
        {
          "output_type": "execute_result",
          "data": {
            "application/vnd.google.colaboratory.intrinsic+json": {
              "type": "string"
            },
            "text/plain": [
              "'http://www.lesfleursdunormal.fr/static/_downloads/pizza_onto.owl#'"
            ]
          },
          "metadata": {
            "tags": []
          },
          "execution_count": 5
        }
      ]
    },
    {
      "cell_type": "markdown",
      "metadata": {
        "id": "eQoNVExgAU2t"
      },
      "source": [
        "Посмотрим на классы онтологии:"
      ]
    },
    {
      "cell_type": "code",
      "metadata": {
        "id": "HK7ehc3xAMgS",
        "colab": {
          "base_uri": "https://localhost:8080/"
        },
        "outputId": "6bcdf029-def3-48de-b6f1-a9bbbe20d74f"
      },
      "source": [
        "# обычный метод .classes() будет возвращать генератор с классами. Обернем это в функцию list() чтобы увидеть результат за один рантайм\n",
        "list(onto.classes()) "
      ],
      "execution_count": null,
      "outputs": [
        {
          "output_type": "execute_result",
          "data": {
            "text/plain": [
              "[pizza_onto.CheeseTopping,\n",
              " pizza_onto.FishTopping,\n",
              " pizza_onto.MeatTopping,\n",
              " pizza_onto.Pizza,\n",
              " pizza_onto.TomatoTopping,\n",
              " pizza_onto.Topping]"
            ]
          },
          "metadata": {
            "tags": []
          },
          "execution_count": 6
        }
      ]
    },
    {
      "cell_type": "markdown",
      "metadata": {
        "id": "nZoriYReBkAK"
      },
      "source": [
        "у нашей онтологии есть классы Топпингов, и Пицца"
      ]
    },
    {
      "cell_type": "code",
      "metadata": {
        "id": "l0BMiiaw7q8e",
        "colab": {
          "base_uri": "https://localhost:8080/"
        },
        "outputId": "01160de3-3ec9-4181-db34-6826d51cdcd6"
      },
      "source": [
        "print(onto.Pizza) # посмотрим на класс Пицца"
      ],
      "execution_count": null,
      "outputs": [
        {
          "output_type": "stream",
          "text": [
            "pizza_onto.Pizza\n"
          ],
          "name": "stdout"
        }
      ]
    },
    {
      "cell_type": "markdown",
      "metadata": {
        "id": "TFfs7PgF_FX3"
      },
      "source": [
        "синтаксис с квадратными скобками также разрешен (делает то же самое что и dot notation)"
      ]
    },
    {
      "cell_type": "code",
      "metadata": {
        "id": "i4YU0R6g_OtL",
        "colab": {
          "base_uri": "https://localhost:8080/"
        },
        "outputId": "9fbbeb5b-a9bf-45d0-f78c-7952169e37b4"
      },
      "source": [
        "print(onto[\"Topping\"]) "
      ],
      "execution_count": null,
      "outputs": [
        {
          "output_type": "stream",
          "text": [
            "pizza_onto.Topping\n"
          ],
          "name": "stdout"
        }
      ]
    },
    {
      "cell_type": "code",
      "metadata": {
        "id": "qM7ZzsmJMO6K",
        "colab": {
          "base_uri": "https://localhost:8080/"
        },
        "outputId": "3a8a2a33-f5df-49c5-d39a-a5d9d75a9823"
      },
      "source": [
        "# попробуем получить доступ к несуществующему классу\n",
        "print(onto[\"Dough_type\"]) "
      ],
      "execution_count": null,
      "outputs": [
        {
          "output_type": "stream",
          "text": [
            "None\n"
          ],
          "name": "stdout"
        }
      ]
    },
    {
      "cell_type": "markdown",
      "metadata": {
        "id": "gtGNY36-HD-E"
      },
      "source": [
        "**к чему можно получить доступ:**\n",
        "    \n",
        "\n",
        "```\n",
        ".classes()\n",
        ".individuals()\n",
        ".object_properties()\n",
        ".data_properties()\n",
        ".annotation_properties() \n",
        ".properties() \n",
        ".disjoint_classes()\n",
        ".disjoint_properties()\n",
        ".different_individuals() \n",
        ".get_namepace(base_iri)\n",
        "\n",
        " и др\n",
        "```\n",
        "\n",
        "\n"
      ]
    },
    {
      "cell_type": "markdown",
      "metadata": {
        "id": "zMdv9N9qB9z9"
      },
      "source": [
        "**поиск в онтологии**\n",
        "\n",
        "осуществляется с помощью метода ```.search()```<br>\n",
        "\n",
        "что можно искать:\n",
        "\n",
        "- iri (идентификатор онтологии)\n",
        "- type (для экземпляров класса)\n",
        "- subclass_of (подклассы класса)\n",
        "- is_a (поиск экземпляров и подклассов класса)\n",
        "- типы связей\n",
        "- лейблы"
      ]
    },
    {
      "cell_type": "code",
      "metadata": {
        "id": "2hJ_SMPA3fhP",
        "colab": {
          "base_uri": "https://localhost:8080/"
        },
        "outputId": "63678d43-bdbf-42d8-ac97-d73aed9ed605"
      },
      "source": [
        "onto.search(iri = \"*Topping\") # * обозначает \"любой класс, заканчивающийся на Topping\""
      ],
      "execution_count": null,
      "outputs": [
        {
          "output_type": "execute_result",
          "data": {
            "text/plain": [
              "[pizza_onto.CheeseTopping, pizza_onto.FishTopping, pizza_onto.MeatTopping, pizza_onto.TomatoTopping, pizza_onto.Topping]"
            ]
          },
          "metadata": {
            "tags": []
          },
          "execution_count": 10
        }
      ]
    },
    {
      "cell_type": "markdown",
      "metadata": {
        "id": "Dg_LEL17G4Fz"
      },
      "source": [
        "**Сохранение онтологии**<br>\n",
        "метод .save() сохранит онтологию в локальную директорию. \n",
        "Файлу можно задать имя и формат\n"
      ]
    },
    {
      "cell_type": "code",
      "metadata": {
        "id": "-9BFSJkG36Ve"
      },
      "source": [
        "onto.save(file = \"Pizza_onto_template\", format = \"rdfxml\")"
      ],
      "execution_count": null,
      "outputs": []
    },
    {
      "cell_type": "code",
      "metadata": {
        "id": "qwC2axOM4FWl",
        "colab": {
          "base_uri": "https://localhost:8080/"
        },
        "outputId": "f96bde92-be4f-4a2b-e4a5-260e15d0c69c"
      },
      "source": [
        "!ls # проверим, что файл сохранился"
      ],
      "execution_count": null,
      "outputs": [
        {
          "output_type": "stream",
          "text": [
            "Pizza_onto_template  sample_data\n"
          ],
          "name": "stdout"
        }
      ]
    },
    {
      "cell_type": "markdown",
      "metadata": {
        "id": "45ffcN9m5COA"
      },
      "source": [
        "**редактирование онтологии**\n",
        "\n",
        "В пицца-онтологии создадим новый класс ```NonVegetarianPizza```. Он наследуется от класса Pizza (то есть обладает всеми его свойствами и методами), но также может иметь свои уникальные <br>\n",
        "\n",
        "\n",
        "\n"
      ]
    },
    {
      "cell_type": "code",
      "metadata": {
        "id": "b7HDbqul5IgA"
      },
      "source": [
        "class NonVegetarianPizza(onto.Pizza):\n",
        "    equivalent_to = [\n",
        "                     onto.Pizza \n",
        "                     & ( onto.has_topping.some(onto.MeatTopping)\n",
        "                     | onto.has_topping.some(onto.FishTopping)\n",
        "                     ) ]\n",
        "\n",
        "    def eat(self): print(\"Wait! I'm vegetarian!\")\n",
        "    def contents(self): print(list(onto.classes()))"
      ],
      "execution_count": null,
      "outputs": []
    },
    {
      "cell_type": "code",
      "metadata": {
        "id": "XIJ2Zn8C5cz4"
      },
      "source": [
        "# создадим новый объект класса Pizza, сохраним в переменную test_pizza\n",
        "test_pizza = onto.Pizza(\"test_pizza_owl_identifier\")"
      ],
      "execution_count": null,
      "outputs": []
    },
    {
      "cell_type": "code",
      "metadata": {
        "id": "iCMVe4AG5f-_"
      },
      "source": [
        "# добавим топпинги\n",
        "test_pizza.has_topping = [ onto.CheeseTopping(),\n",
        "                         onto.TomatoTopping() ]"
      ],
      "execution_count": null,
      "outputs": []
    },
    {
      "cell_type": "code",
      "metadata": {
        "id": "EjSrXgwp5mTW"
      },
      "source": [
        "# и еще один топпинг, новым способом: листы можно модифицировать мгновенно методом .append()\n",
        "test_pizza.has_topping.append(onto.MeatTopping())"
      ],
      "execution_count": null,
      "outputs": []
    },
    {
      "cell_type": "code",
      "metadata": {
        "id": "5Pl3PWEW5uoP",
        "colab": {
          "base_uri": "https://localhost:8080/"
        },
        "outputId": "f6153dcc-06bc-4544-c64f-942642fb2ce8"
      },
      "source": [
        "# проверим принадлежность объекта к классу\n",
        "test_pizza.__class__"
      ],
      "execution_count": null,
      "outputs": [
        {
          "output_type": "execute_result",
          "data": {
            "text/plain": [
              "pizza_onto.Pizza"
            ]
          },
          "metadata": {
            "tags": []
          },
          "execution_count": 17
        }
      ]
    },
    {
      "cell_type": "code",
      "metadata": {
        "id": "ls3K_KO350Cy",
        "colab": {
          "base_uri": "https://localhost:8080/"
        },
        "outputId": "0a899057-b61f-4b26-c109-3b64e7e363ef"
      },
      "source": [
        "\n",
        "# Execute HermiT and reparent instances and classes\n",
        "sync_reasoner()"
      ],
      "execution_count": null,
      "outputs": [
        {
          "output_type": "stream",
          "text": [
            "* Owlready2 * Running HermiT...\n",
            "    java -Xmx2000M -cp /usr/local/lib/python3.6/dist-packages/owlready2/hermit:/usr/local/lib/python3.6/dist-packages/owlready2/hermit/HermiT.jar org.semanticweb.HermiT.cli.CommandLine -c -O -D -I file:////tmp/tmpab3xvy1p\n",
            "* Owlready2 * HermiT took 1.6741433143615723 seconds\n",
            "* Owlready * Reparenting pizza_onto.test_pizza_owl_identifier: {pizza_onto.Pizza} => {pizza_onto.NonVegetarianPizza}\n",
            "* Owlready * (NB: only changes on entities loaded in Python are shown, other changes are done but not listed)\n"
          ],
          "name": "stderr"
        }
      ]
    },
    {
      "cell_type": "code",
      "metadata": {
        "id": "OOOTXfaXLsFy",
        "colab": {
          "base_uri": "https://localhost:8080/"
        },
        "outputId": "1a4d7aba-9d22-4397-b3c3-a0f4bf5e21b7"
      },
      "source": [
        "# проверим принадлежность объекта к классу\n",
        "test_pizza.__class__"
      ],
      "execution_count": null,
      "outputs": [
        {
          "output_type": "execute_result",
          "data": {
            "text/plain": [
              "pizza_onto.NonVegetarianPizza"
            ]
          },
          "metadata": {
            "tags": []
          },
          "execution_count": 19
        }
      ]
    },
    {
      "cell_type": "code",
      "metadata": {
        "id": "ZjCR0em96BuD",
        "colab": {
          "base_uri": "https://localhost:8080/"
        },
        "outputId": "3d9f9dd5-2529-43c8-d420-2ae746ce985d"
      },
      "source": [
        "test_pizza.eat()"
      ],
      "execution_count": null,
      "outputs": [
        {
          "output_type": "stream",
          "text": [
            "Wait! I'm vegetarian!\n"
          ],
          "name": "stdout"
        }
      ]
    },
    {
      "cell_type": "code",
      "metadata": {
        "id": "bWqo7Q14KgQp",
        "colab": {
          "base_uri": "https://localhost:8080/"
        },
        "outputId": "d743f5db-1ae0-451b-d787-3c3fff63a94c"
      },
      "source": [
        "test_pizza.contents()"
      ],
      "execution_count": null,
      "outputs": [
        {
          "output_type": "stream",
          "text": [
            "[pizza_onto.CheeseTopping, pizza_onto.FishTopping, pizza_onto.MeatTopping, pizza_onto.Pizza, pizza_onto.TomatoTopping, pizza_onto.Topping, pizza_onto.NonVegetarianPizza]\n"
          ],
          "name": "stdout"
        }
      ]
    },
    {
      "cell_type": "code",
      "metadata": {
        "id": "w_99jmAELyV9"
      },
      "source": [
        ""
      ],
      "execution_count": null,
      "outputs": []
    }
  ]
}
